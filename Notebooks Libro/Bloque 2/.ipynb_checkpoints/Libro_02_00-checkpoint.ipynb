{
 "cells": [
  {
   "cell_type": "markdown",
   "id": "7e9e2ada-8b51-4ad7-a558-7abc9ea2e4f0",
   "metadata": {},
   "source": [
    "# Francisco Regalado\n",
    "### Introducción a la Ciencia de Datos\n",
    "Maestria en Ciecias de la Computación, CICESE"
   ]
  },
  {
   "cell_type": "markdown",
   "id": "13c1a45d-2dca-4177-83fb-0146c67d0d7e",
   "metadata": {},
   "source": [
    "**Introducción a NumPy**\n",
    "\n",
    "Este capítulo explora técnicas para cargar, almacenar y manipular datos en memoria de manera eficiente usando Python. Aunque los conjuntos de datos pueden ser muy variados (colecciones de documentos, imágenes, clips de sonido, mediciones numéricas, etc.), es útil pensar en todos estos datos como **arreglos de números**.\n",
    "\n",
    "Por ejemplo:\n",
    "\n",
    "- Las imágenes digitales pueden considerarse como matrices bidimensionales de números que representan el brillo de los píxeles.\n",
    "- Los clips de sonido pueden verse como arreglos unidimensionales que representan la intensidad en función del tiempo.\n",
    "- El texto puede convertirse en representaciones numéricas, como dígitos binarios que indican la frecuencia de ciertas palabras.\n",
    "\n",
    "Independientemente del tipo de datos, el primer paso para hacerlos analizables es transformarlos en **arreglos numéricos**. Por esta razón, el almacenamiento y la manipulación eficiente de estos arreglos es fundamental en la ciencia de datos.\n",
    "\n",
    "### NumPy: Manipulación de Arreglos Numéricos\n",
    "En este capítulo, veremos en detalle **NumPy** (abreviatura de *Numerical Python*). NumPy proporciona una interfaz eficiente para almacenar y operar con **buffers de datos densos**. En cierto modo, los arreglos de NumPy son similares a las listas de Python, pero ofrecen un almacenamiento y operaciones mucho más eficientes cuando los arreglos crecen en tamaño.\n",
    "\n",
    "NumPy forma el núcleo de casi todo el ecosistema de herramientas de ciencia de datos en Python, por lo que aprender a usarlo bien es esencial.\n",
    "\n",
    "#### Instalación de NumPy\n",
    "Si seguiste los consejos del prefacio e instalaste el stack de Anaconda, ya deberías tener NumPy instalado.\n",
    "\n",
    "Para verificar que NumPy está instalado y comprobar la versión, puedes ejecutar:\n",
    "\n",
    "```python\n",
    "import numpy\n",
    "numpy.__version__\n",
    "```\n",
    "\n",
    "El resultado podría ser algo como `'1.11.1'`. Para los temas tratados en este capítulo, se recomienda usar NumPy versión 1.8 o posterior.\n",
    "\n",
    "#### Importando NumPy\n",
    "Por convención, la mayoría de personas en la comunidad SciPy/PyData importan NumPy utilizando el alias `np`:\n",
    "\n",
    "```python\n",
    "import numpy as np\n",
    "```\n",
    "\n",
    "A lo largo de este capítulo, y en el resto del libro, este será el modo en que importaremos y usaremos NumPy.\n",
    "\n",
    "### Recordatorio: Documentación Integrada\n",
    "No olvides que IPython te permite explorar rápidamente el contenido de un paquete (usando la **completación de tabulación**) y acceder a la documentación de varias funciones (usando el carácter `?`). \n",
    "\n",
    "Por ejemplo:\n",
    "\n",
    "- Para mostrar todo el contenido del espacio de nombres de NumPy, puedes escribir:\n",
    "\n",
    "```python\n",
    "np.<TAB>\n",
    "```\n",
    "\n",
    "- Para mostrar la documentación de NumPy, puedes utilizar:\n",
    "\n",
    "```python\n",
    "np?\n",
    "```"
   ]
  },
  {
   "cell_type": "code",
   "execution_count": null,
   "id": "0aae556a-e4de-4d05-bcca-781562b06847",
   "metadata": {},
   "outputs": [],
   "source": []
  }
 ],
 "metadata": {
  "kernelspec": {
   "display_name": "Python 3 (ipykernel)",
   "language": "python",
   "name": "python3"
  },
  "language_info": {
   "codemirror_mode": {
    "name": "ipython",
    "version": 3
   },
   "file_extension": ".py",
   "mimetype": "text/x-python",
   "name": "python",
   "nbconvert_exporter": "python",
   "pygments_lexer": "ipython3",
   "version": "3.10.14"
  }
 },
 "nbformat": 4,
 "nbformat_minor": 5
}
