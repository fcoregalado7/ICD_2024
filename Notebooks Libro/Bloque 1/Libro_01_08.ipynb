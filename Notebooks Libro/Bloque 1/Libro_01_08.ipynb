{
 "cells": [
  {
   "cell_type": "markdown",
   "id": "4ee14505-3fb0-4904-b976-9483b692bce8",
   "metadata": {},
   "source": [
    "# Francisco Regalado\n",
    "### Introducción a la Ciencia de Datos\n",
    "Maestria en Ciecias de la Computación, CICESE"
   ]
  },
  {
   "cell_type": "markdown",
   "id": "4b221593-c4b1-43cb-a380-a274ee56238a",
   "metadata": {},
   "source": [
    "## Más recursos de IPython\n",
    "\n",
    "Algunos **recursos adicionales de IPython** que te pueden ayudar a profundizar en el uso de esta poderosa herramienta para tareas de ciencia de datos:\n",
    "\n",
    "### Recursos en línea\n",
    "1. **Sitio web de IPython**: Aquí encontrarás documentación, ejemplos, tutoriales y otros recursos útiles.\n",
    "2. **Nbviewer**: Un sitio web que muestra renderizados estáticos de cualquier notebook de IPython disponible en la web. En su página principal puedes encontrar ejemplos de notebooks usados por otros usuarios.\n",
    "3. **Galería de notebooks interesantes**: Una lista en constante crecimiento de notebooks que demuestra el potencial del análisis numérico con IPython, desde ejemplos cortos hasta cursos completos.\n",
    "4. **Tutoriales en video**: Puedes buscar en Internet tutoriales grabados de conferencias como **PyCon**, **SciPy**, y **PyData**. Se recomienda especialmente los de **Fernando Pérez** y **Brian Granger**, creadores y mantenedores de IPython y Jupyter.\n",
    "\n",
    "### Libros\n",
    "1. **Python for Data Analysis** de Wes McKinney: Incluye un capítulo que cubre el uso de IPython para la ciencia de datos.\n",
    "2. **Learning IPython for Interactive Computing and Data Visualization** de Cyrille Rossant: Un libro breve que ofrece una buena introducción a IPython para el análisis de datos.\n",
    "3. **IPython Interactive Computing and Visualization Cookbook** también de Cyrille Rossant: Un libro más largo y avanzado que profundiza no solo en IPython, sino en una amplia gama de temas relacionados con la ciencia de datos.\n",
    "\n",
    "### Ayuda incorporada\n",
    "Aprovecha la funcionalidad de ayuda basada en el signo de interrogación (`?`) en IPython, discutida en la sección de **Ayuda y Documentación en IPython**."
   ]
  },
  {
   "cell_type": "code",
   "execution_count": null,
   "id": "9acc7dd5-fa0b-4c36-a906-5116438d8e66",
   "metadata": {},
   "outputs": [],
   "source": []
  }
 ],
 "metadata": {
  "kernelspec": {
   "display_name": "Python 3 (ipykernel)",
   "language": "python",
   "name": "python3"
  },
  "language_info": {
   "codemirror_mode": {
    "name": "ipython",
    "version": 3
   },
   "file_extension": ".py",
   "mimetype": "text/x-python",
   "name": "python",
   "nbconvert_exporter": "python",
   "pygments_lexer": "ipython3",
   "version": "3.10.14"
  }
 },
 "nbformat": 4,
 "nbformat_minor": 5
}
