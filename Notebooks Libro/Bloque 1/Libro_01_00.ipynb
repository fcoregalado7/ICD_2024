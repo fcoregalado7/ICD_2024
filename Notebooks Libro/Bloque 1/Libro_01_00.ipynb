{
 "cells": [
  {
   "cell_type": "markdown",
   "id": "939ddcf3-d0ef-4b97-81d8-4a13b5e04dab",
   "metadata": {},
   "source": [
    "# Francisco Regalado\n",
    "### Introducción a la Ciencia de Datos\n",
    "Maestria en Ciecias de la Computación, CICESE"
   ]
  },
  {
   "cell_type": "markdown",
   "id": "31542e05-8424-4dab-91a5-8cc6f0fd4f6a",
   "metadata": {},
   "source": [
    "### IPython: Más allá de Python normal\n",
    "\n",
    "IPython trata sobre usar Python de manera efectiva para la computación científica interactiva y el procesamiento intensivo de datos. Este capítulo comenzará revisando algunas de las características de IPython que son útiles para la práctica de la ciencia de datos, centrándose especialmente en la sintaxis que ofrece más allá de las funciones estándar de Python. Luego, profundizaremos un poco más en algunos de los \"comandos mágicos\" más útiles que pueden acelerar tareas comunes al crear y utilizar código de ciencia de datos. Finalmente, mencionaremos algunas características del cuaderno que lo hacen útil para comprender datos y compartir resultados.\n",
    "\n",
    "### ¿Shell o NoteBook?\n",
    "\n",
    "Hay dos formas principales de usar IPython que discutiremos en este capítulo: el shell de IPython y el NoteBook de IPython. Gran parte del material en este capítulo es relevante para ambos, y los ejemplos cambiarán entre uno y otro dependiendo de lo que sea más conveniente. En las pocas secciones que sean relevantes solo para uno de ellos, lo indicaremos explícitamente. Antes de comenzar, unas palabras sobre cómo iniciar el shell de IPython y el cuaderno de IPython.\n",
    "\n",
    "### Iniciando el Shell de IPython\n",
    "Comienza iniciando el intérprete de IPython escribiendo `ipython` en la línea de comandos; alternativamente, si has instalado una distribución como Anaconda o EPD, puede haber un lanzador específico para tu sistema (hablaremos más de esto en la sección de Ayuda y Documentación en IPython)."
   ]
  },
  {
   "cell_type": "code",
   "execution_count": 3,
   "id": "98f57842-df9c-4da7-ace2-b2feecc54387",
   "metadata": {},
   "outputs": [],
   "source": [
    "#IPython 4.0.1 -- An enhanced Interactive Python.\n",
    "#?         -> Introduction and overview of IPython's features.\n",
    "#%quickref -> Quick reference.\n",
    "#help      -> Python's own help system.\n",
    "#object?   -> Details about 'object', use 'object??' for extra details.\n",
    "#In [1]:"
   ]
  },
  {
   "cell_type": "markdown",
   "id": "44e2aa47-4321-49b5-9751-63200094e62b",
   "metadata": {},
   "source": [
    "### Iniciando el Cuaderno de Jupyter\n",
    "\n",
    "El cuaderno de Jupyter es una interfaz gráfica basada en navegador para el shell de IPython, y sobre esta se construye un conjunto enriquecido de capacidades de visualización dinámica. Además de ejecutar declaraciones de Python/IPython, el cuaderno permite al usuario incluir texto formateado, visualizaciones estáticas y dinámicas, ecuaciones matemáticas, widgets de JavaScript y mucho más. Además, estos documentos pueden guardarse de manera que otras personas puedan abrirlos y ejecutar el código en sus propios sistemas.\n",
    "\n",
    "Aunque el cuaderno de IPython se visualiza y edita a través de la ventana de tu navegador web, debe conectarse a un proceso de Python en ejecución para poder ejecutar el código. Este proceso (conocido como \"kernel\") puede iniciarse ejecutando el siguiente comando en el shell de tu sistema:\n"
   ]
  },
  {
   "cell_type": "code",
   "execution_count": 6,
   "id": "d9979eea-768d-49da-828a-7055c426bbb2",
   "metadata": {},
   "outputs": [],
   "source": [
    "#   bash\n",
    "#$ jupyter notebook\n"
   ]
  },
  {
   "cell_type": "markdown",
   "id": "a326ee84-18ab-4ae6-b9a0-778fa41312e2",
   "metadata": {},
   "source": [
    "Este comando lanzará un servidor web local que será visible en tu navegador. Inmediatamente mostrará un registro de lo que está haciendo; dicho registro se verá algo así:"
   ]
  },
  {
   "cell_type": "code",
   "execution_count": 9,
   "id": "af328b61-78bd-401b-9b4c-f54488a8ba80",
   "metadata": {},
   "outputs": [],
   "source": [
    "#$ jupyter notebook\n",
    "#[NotebookApp] Serving notebooks from local directory: /Users/jakevdp/PythonDataScienceHandbook\n",
    "#[NotebookApp] 0 active kernels \n",
    "#[NotebookApp] The IPython Notebook is running at: http://localhost:8888/\n",
    "#[NotebookApp] Use Control-C to stop this server and shut down all kernels (twice to skip confirmation)."
   ]
  },
  {
   "cell_type": "code",
   "execution_count": null,
   "id": "6a37cc91-6dae-4a61-9cf3-8ba2e92164cc",
   "metadata": {},
   "outputs": [],
   "source": []
  }
 ],
 "metadata": {
  "kernelspec": {
   "display_name": "Python 3 (ipykernel)",
   "language": "python",
   "name": "python3"
  },
  "language_info": {
   "codemirror_mode": {
    "name": "ipython",
    "version": 3
   },
   "file_extension": ".py",
   "mimetype": "text/x-python",
   "name": "python",
   "nbconvert_exporter": "python",
   "pygments_lexer": "ipython3",
   "version": "3.10.14"
  }
 },
 "nbformat": 4,
 "nbformat_minor": 5
}
