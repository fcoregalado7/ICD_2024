{
 "cells": [
  {
   "cell_type": "markdown",
   "id": "1cc7152d-908a-4122-91ba-fcdf9a2bed03",
   "metadata": {},
   "source": [
    "# Francisco Regalado\n",
    "### Introducción a la Ciencia de Datos\n",
    "Maestria en Ciecias de la Computación, CICESE"
   ]
  },
  {
   "cell_type": "markdown",
   "id": "9c56ff62-1786-4cbc-a4fe-a79f4975588a",
   "metadata": {},
   "source": [
    "### Atajos de teclado en la terminal de IPython\n",
    "\n",
    "Los atajos como **Ctrl-C** y **Ctrl-V** para copiar y pegar son comunes, pero los usuarios avanzados van más allá, utilizando combinaciones más complejas de teclas para optimizar su productividad. La terminal de IPython no llega al nivel de complejidad de editores como Emacs o Vim, pero proporciona una serie de atajos para navegar y editar comandos rápidamente. Estos atajos son proporcionados a través de la biblioteca GNU Readline.\n",
    "\n",
    "### Atajos de navegación\n",
    "Aunque las teclas de flecha izquierda y derecha son obvias para moverse en una línea de comando, hay opciones que no requieren que muevas tus manos de la posición \"home\" en el teclado.\n",
    "\n",
    "| Tecla | Acción |\n",
    "|-------|--------|\n",
    "| **Ctrl-a** | Mover el cursor al inicio de la línea |\n",
    "| **Ctrl-e** | Mover el cursor al final de la línea |\n",
    "| **Ctrl-b** o la flecha izquierda | Mover el cursor un carácter atrás |\n",
    "| **Ctrl-f** o la flecha derecha | Mover el cursor un carácter adelante |\n",
    "\n",
    "### Atajos para ingresar texto\n",
    "Los atajos para borrar texto pueden ser más eficaces que simplemente usar la tecla de retroceso (**Backspace**), permitiendo borrar porciones completas de texto.\n",
    "\n",
    "| Tecla | Acción |\n",
    "|-------|--------|\n",
    "| **Backspace** | Eliminar el carácter anterior |\n",
    "| **Ctrl-d** | Eliminar el siguiente carácter |\n",
    "| **Ctrl-k** | Cortar texto desde el cursor hasta el final de la línea |\n",
    "| **Ctrl-u** | Cortar texto desde el inicio de la línea hasta el cursor |\n",
    "| **Ctrl-y** | Pegar el texto previamente cortado |\n",
    "| **Ctrl-t** | Intercambiar los dos caracteres anteriores |\n",
    "\n",
    "### Atajos para el historial de comandos\n",
    "El historial de comandos de IPython permite navegar entre comandos previos, que se guardan incluso entre sesiones.\n",
    "\n",
    "| Tecla | Acción |\n",
    "|-------|--------|\n",
    "| **Ctrl-p** (o flecha hacia arriba) | Acceder al comando anterior en el historial |\n",
    "| **Ctrl-n** (o flecha hacia abajo) | Acceder al siguiente comando en el historial |\n",
    "| **Ctrl-r** | Búsqueda inversa en el historial de comandos |\n",
    "\n",
    "**Ctrl-r** es particularmente útil para buscar un comando en el historial. Por ejemplo, al buscar la función `square` definida previamente, podrías usar:"
   ]
  },
  {
   "cell_type": "code",
   "execution_count": 10,
   "id": "4fd4bc61-e121-4d65-884c-4c78b90c13bb",
   "metadata": {},
   "outputs": [],
   "source": [
    "#(reverse-i-search)`squa': def square(a):\n",
    "#    \"\"\"Return the square of a\"\"\"\n",
    "#    return a ** 2"
   ]
  },
  {
   "cell_type": "markdown",
   "id": "9eeeb829-335f-41b9-9e57-5399e9aa58b2",
   "metadata": {},
   "source": [
    "Presiona **Enter** para seleccionar el comando encontrado.\n",
    "\n",
    "### Atajos misceláneos\n",
    "Algunos otros atajos útiles incluyen:\n",
    "\n",
    "| Tecla | Acción |\n",
    "|-------|--------|\n",
    "| **Ctrl-l** | Limpiar la pantalla de la terminal |\n",
    "| **Ctrl-c** | Interrumpir el comando Python actual |\n",
    "| **Ctrl-d** | Salir de la sesión de IPython |\n",
    "\n",
    "Estos atajos, aunque parezcan tediosos al principio, se vuelven automáticos con la práctica. Una vez que se integran a tu flujo de trabajo, notarás un aumento en la velocidad y eficiencia."
   ]
  }
 ],
 "metadata": {
  "kernelspec": {
   "display_name": "Python 3 (ipykernel)",
   "language": "python",
   "name": "python3"
  },
  "language_info": {
   "codemirror_mode": {
    "name": "ipython",
    "version": 3
   },
   "file_extension": ".py",
   "mimetype": "text/x-python",
   "name": "python",
   "nbconvert_exporter": "python",
   "pygments_lexer": "ipython3",
   "version": "3.10.14"
  }
 },
 "nbformat": 4,
 "nbformat_minor": 5
}
