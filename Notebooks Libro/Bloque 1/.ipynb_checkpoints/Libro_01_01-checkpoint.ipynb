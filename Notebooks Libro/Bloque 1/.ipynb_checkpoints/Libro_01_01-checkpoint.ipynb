{
 "cells": [
  {
   "cell_type": "markdown",
   "id": "1a74d86d-6941-4bf2-a463-5e6d580d57ff",
   "metadata": {},
   "source": [
    "# Francisco Regalado\n",
    "### Introducción a la Ciencia de Datos\n",
    "Maestria en Ciecias de la Computación, CICESE"
   ]
  },
  {
   "cell_type": "markdown",
   "id": "62d547dc-e6a5-4ef6-a20f-7a33e4d65751",
   "metadata": {},
   "source": [
    "### Ayuda y documentación en IPython\n",
    "\n",
    "Ser un practicante efectivo de ciencia de datos no se trata tanto de memorizar cada herramienta o comando para cada situación posible, sino de aprender a encontrar eficazmente la información que no conoces, ya sea a través de un motor de búsqueda o de otros medios.\n",
    "\n",
    "Una de las funciones más útiles de IPython/Jupyter es acortar la distancia entre el usuario y el tipo de documentación o búsqueda que le ayudará a trabajar de manera más eficiente.\n",
    "\n",
    "- ¿Cómo llamo a esta función? ¿Qué argumentos y opciones tiene?\n",
    "- ¿Cómo se ve el código fuente de este objeto de Python?\n",
    "- ¿Qué contiene este paquete que he importado? ¿Qué atributos o métodos tiene este objeto?\n",
    "\n",
    "\n",
    "### Accediendo a la documentación con ?\n",
    "\n",
    "El lenguaje Python y su ecosistema de ciencia de datos están diseñados con el usuario en mente, y una gran parte de eso es el acceso a la documentación. Cada objeto en Python contiene una referencia a una cadena de texto, conocida como *docstring*, que en la mayoría de los casos ofrece un resumen conciso del objeto y cómo usarlo. Python tiene una función integrada, `help()`, que accede a esta información y muestra los resultados. Por ejemplo, para ver la documentación de la función integrada `len`, puedes hacer lo siguiente:"
   ]
  },
  {
   "cell_type": "code",
   "execution_count": 9,
   "id": "bfd40d67-db70-4e37-a8dc-731153da3e96",
   "metadata": {},
   "outputs": [],
   "source": [
    "#In [1]: help(len)\n",
    "#Help on built-in function len in module builtins:\n",
    "\n",
    "#len(...)\n",
    "#    len(object) -> integer\n",
    "    \n",
    "#    Return the number of items of a sequence or mapping."
   ]
  },
  {
   "cell_type": "markdown",
   "id": "3dd3e5b1-3f06-4c33-b35f-4ec55e9181e4",
   "metadata": {},
   "source": [
    "Debido a que buscar ayuda sobre un objeto es algo común y útil, IPython introduce el carácter **?** como un atajo para acceder a esta documentación:"
   ]
  },
  {
   "cell_type": "code",
   "execution_count": 19,
   "id": "3d62a7a0-e05d-4d91-88df-bcdac1b9335f",
   "metadata": {},
   "outputs": [],
   "source": [
    "#In [2]: len?\n",
    "#Type:        builtin_function_or_method\n",
    "#String form: <built-in function len>\n",
    "#Namespace:   Python builtin\n",
    "#Docstring:\n",
    "#len(object) -> integer\n",
    "\n",
    "#Return the number of items of a sequence or mapping."
   ]
  },
  {
   "cell_type": "markdown",
   "id": "8e36e357-91b9-4ef2-b252-d9d4fca3d000",
   "metadata": {},
   "source": [
    "Este atajo funciona para casi todo, incluidas las funciones que creas tú mismo. Aquí definimos una pequeña función con un *docstring*:"
   ]
  },
  {
   "cell_type": "code",
   "execution_count": 21,
   "id": "ccb33953-b453-4902-8ddf-2b12a2e7cdbd",
   "metadata": {},
   "outputs": [],
   "source": [
    "#In [6]: def square(a):\n",
    "#  ....:     \"\"\"Devuelve el cuadrado de un número.\"\"\"\n",
    "#  ....:     return a ** 2"
   ]
  },
  {
   "cell_type": "markdown",
   "id": "5db663b9-69f0-421b-b762-1ca34b808662",
   "metadata": {},
   "source": [
    "Ahora, podemos usar el signo de interrogación **?** para ver esta documentación:"
   ]
  },
  {
   "cell_type": "code",
   "execution_count": 23,
   "id": "809d5e70-422a-4bab-a1f5-f207483431a5",
   "metadata": {},
   "outputs": [],
   "source": [
    "#In [7]: square?\n",
    "#Type:        function\n",
    "#String form: <function square at 0x103713cb0>\n",
    "#Definition:  square(a)\n",
    "#Docstring:   Devuelve el cuadrado de un número."
   ]
  },
  {
   "cell_type": "markdown",
   "id": "8a504248-d85d-4868-b0d6-27280ae7e822",
   "metadata": {},
   "source": [
    "### Accediendo al código fuente con ??\n",
    "\n",
    "Otra ventaja de Python es que el lenguaje es fácilmente legible. IPython proporciona un atajo para acceder al código fuente de un objeto con el doble signo de interrogación **??**:"
   ]
  },
  {
   "cell_type": "code",
   "execution_count": 25,
   "id": "6a091fc8-12b5-4d33-a673-33208659308b",
   "metadata": {},
   "outputs": [],
   "source": [
    "#In [8]: square??\n",
    "#Type:        function\n",
    "#String form: <function square at 0x103713cb0>\n",
    "#Definition:  square(a)\n",
    "#Source:\n",
    "#def square(a):\n",
    "#    \"\"\"Devuelve el cuadrado de un número\"\"\"\n",
    "#    return a ** 2"
   ]
  },
  {
   "cell_type": "markdown",
   "id": "2cb3590f-9392-4347-8e44-7c7ad8c04762",
   "metadata": {},
   "source": [
    "Si el objeto no está implementado en Python, sino en C o en otro lenguaje compilado, el sufijo **??** muestra la misma información que **?**.\n",
    "\n",
    "### Explorando módulos con la autocompletación de Tab\n",
    "\n",
    "La tecla **Tab** en IPython permite explorar los contenidos de objetos, módulos y espacios de nombres. Por ejemplo, puedes ver todos los atributos disponibles de un objeto al escribir su nombre seguido de un punto y luego presionar **Tab**:"
   ]
  },
  {
   "cell_type": "code",
   "execution_count": 27,
   "id": "88afc334-41b4-48ce-bd42-94713f83aada",
   "metadata": {},
   "outputs": [],
   "source": [
    "#In [10]: L.<TAB>\n",
    "#L.append   L.copy     L.extend   L.insert   L.remove   L.sort     \n",
    "#L.clear    L.count    L.index    L.pop      L.reverse"
   ]
  },
  {
   "cell_type": "markdown",
   "id": "c3c425f6-7c83-4e6c-b2c8-876f009d2e97",
   "metadata": {},
   "source": [
    "La autocompletación también es útil al importar módulos:"
   ]
  },
  {
   "cell_type": "code",
   "execution_count": 31,
   "id": "912c24c2-39b2-4a89-9b21-643e73ce0b17",
   "metadata": {},
   "outputs": [],
   "source": [
    "#In [10]: from itertools import co<TAB>\n",
    "#combinations                   compress\n",
    "#combinations_with_replacement  count"
   ]
  },
  {
   "cell_type": "markdown",
   "id": "7dd7a31b-aacb-43fe-bc90-c4add78e6414",
   "metadata": {},
   "source": [
    "### Más allá de la autocompletación: coincidencias con comodines\n",
    "\n",
    "IPython permite usar el carácter **\\*** como comodín para realizar búsquedas flexibles. Por ejemplo, para listar todos los objetos en el espacio de nombres que terminan en \"Warning\":"
   ]
  },
  {
   "cell_type": "code",
   "execution_count": 33,
   "id": "6ba5d75e-bf5c-42db-bc86-bb6f00e91540",
   "metadata": {},
   "outputs": [],
   "source": [
    "#In [10]: *Warning?\n",
    "#BytesWarning                  RuntimeWarning\n",
    "#DeprecationWarning            SyntaxWarning\n",
    "#FutureWarning                 UnicodeWarning\n",
    "#ImportWarning                 UserWarning"
   ]
  },
  {
   "cell_type": "markdown",
   "id": "f5069ad2-9aa8-4646-b975-805a9257e18a",
   "metadata": {},
   "source": [
    "Esta búsqueda con comodines es muy útil para encontrar comandos específicos al familiarizarte con un nuevo paquete o al recordar comandos que no usas con frecuencia."
   ]
  }
 ],
 "metadata": {
  "kernelspec": {
   "display_name": "Python 3 (ipykernel)",
   "language": "python",
   "name": "python3"
  },
  "language_info": {
   "codemirror_mode": {
    "name": "ipython",
    "version": 3
   },
   "file_extension": ".py",
   "mimetype": "text/x-python",
   "name": "python",
   "nbconvert_exporter": "python",
   "pygments_lexer": "ipython3",
   "version": "3.10.14"
  }
 },
 "nbformat": 4,
 "nbformat_minor": 5
}
