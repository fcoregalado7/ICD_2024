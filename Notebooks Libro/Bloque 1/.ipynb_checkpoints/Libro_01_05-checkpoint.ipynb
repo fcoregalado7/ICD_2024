{
 "cells": [
  {
   "cell_type": "markdown",
   "id": "686a94bb-6087-4dda-b44c-c87387cf9b12",
   "metadata": {},
   "source": [
    "# Francisco Regalado\n",
    "### Introducción a la Ciencia de Datos\n",
    "Maestria en Ciecias de la Computación, CICESE"
   ]
  },
  {
   "cell_type": "code",
   "execution_count": null,
   "id": "87b95202-2f2b-42b0-a4a6-2fe9b78b2c0c",
   "metadata": {},
   "outputs": [],
   "source": []
  }
 ],
 "metadata": {
  "kernelspec": {
   "display_name": "Python 3 (ipykernel)",
   "language": "python",
   "name": "python3"
  },
  "language_info": {
   "codemirror_mode": {
    "name": "ipython",
    "version": 3
   },
   "file_extension": ".py",
   "mimetype": "text/x-python",
   "name": "python",
   "nbconvert_exporter": "python",
   "pygments_lexer": "ipython3",
   "version": "3.10.14"
  }
 },
 "nbformat": 4,
 "nbformat_minor": 5
}
