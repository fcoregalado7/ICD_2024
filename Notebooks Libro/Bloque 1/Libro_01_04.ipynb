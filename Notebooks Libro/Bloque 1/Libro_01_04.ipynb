{
 "cells": [
  {
   "cell_type": "markdown",
   "id": "4d203dc8-366d-449d-9c9b-e7f76936b22a",
   "metadata": {},
   "source": [
    "# Francisco Regalado\n",
    "### Introducción a la Ciencia de Datos\n",
    "Maestria en Ciecias de la Computación, CICESE"
   ]
  },
  {
   "cell_type": "code",
   "execution_count": null,
   "id": "8c032952-19ef-4d4d-8460-902fd6490dca",
   "metadata": {},
   "outputs": [],
   "source": []
  }
 ],
 "metadata": {
  "kernelspec": {
   "display_name": "Python 3 (ipykernel)",
   "language": "python",
   "name": "python3"
  },
  "language_info": {
   "codemirror_mode": {
    "name": "ipython",
    "version": 3
   },
   "file_extension": ".py",
   "mimetype": "text/x-python",
   "name": "python",
   "nbconvert_exporter": "python",
   "pygments_lexer": "ipython3",
   "version": "3.10.14"
  }
 },
 "nbformat": 4,
 "nbformat_minor": 5
}
