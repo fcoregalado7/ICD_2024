{
 "cells": [
  {
   "cell_type": "markdown",
   "id": "0d62d932-3057-4aff-b432-c5c3ecfc04e6",
   "metadata": {},
   "source": [
    "# Francisco Regalado\n",
    "### Introducción a la Ciencia de Datos\n",
    "Maestria en Ciecias de la Computación, CICESE"
   ]
  },
  {
   "cell_type": "markdown",
   "id": "dd39a1f2-b2f1-4407-9847-8b9e644578b0",
   "metadata": {},
   "source": [
    "### Comandos mágicos en IPython\n",
    "\n",
    "IPython proporciona **comandos mágicos**, que son mejoras añadidas sobre la sintaxis estándar de Python. Estos comandos mágicos están prefijados con el carácter **%** y se dividen en dos tipos: \n",
    "- **Line magics**: Operan en una sola línea y se identifican con un solo **%**.\n",
    "- **Cell magics**: Operan en múltiples líneas y utilizan el prefijo **%%**.\n",
    "\n",
    "A continuación, exploraremos algunos ejemplos clave de estos comandos.\n",
    "\n",
    "### Pegar bloques de código: %paste y %cpaste\n",
    "Cuando pegas bloques de código con múltiples líneas en IPython, a menudo el formato o la indentación pueden causar errores. Aquí es donde entran en juego los comandos `%paste` y `%cpaste`, que ayudan a pegar y ejecutar código correctamente sin errores de formato.\n",
    "\n",
    "**Ejemplo con `%paste`:**"
   ]
  },
  {
   "cell_type": "code",
   "execution_count": null,
   "id": "12d232ab-e4be-44a6-a000-548dcf530830",
   "metadata": {},
   "outputs": [],
   "source": []
  },
  {
   "cell_type": "markdown",
   "id": "8fc6be5e-ca85-406c-ba2b-6435fd431445",
   "metadata": {},
   "source": []
  }
 ],
 "metadata": {
  "kernelspec": {
   "display_name": "Python 3 (ipykernel)",
   "language": "python",
   "name": "python3"
  },
  "language_info": {
   "codemirror_mode": {
    "name": "ipython",
    "version": 3
   },
   "file_extension": ".py",
   "mimetype": "text/x-python",
   "name": "python",
   "nbconvert_exporter": "python",
   "pygments_lexer": "ipython3",
   "version": "3.10.14"
  }
 },
 "nbformat": 4,
 "nbformat_minor": 5
}
