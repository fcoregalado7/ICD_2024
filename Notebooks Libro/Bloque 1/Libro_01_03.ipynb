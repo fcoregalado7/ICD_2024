{
 "cells": [
  {
   "cell_type": "markdown",
   "id": "0d62d932-3057-4aff-b432-c5c3ecfc04e6",
   "metadata": {},
   "source": [
    "# Francisco Regalado\n",
    "### Introducción a la Ciencia de Datos\n",
    "Maestria en Ciecias de la Computación, CICESE"
   ]
  },
  {
   "cell_type": "markdown",
   "id": "dd39a1f2-b2f1-4407-9847-8b9e644578b0",
   "metadata": {},
   "source": [
    "### Comandos mágicos en IPython\n",
    "\n",
    "IPython proporciona **comandos mágicos**, que son mejoras añadidas sobre la sintaxis estándar de Python. Estos comandos mágicos están prefijados con el carácter **%** y se dividen en dos tipos: \n",
    "- **Line magics**: Operan en una sola línea y se identifican con un solo **%**.\n",
    "- **Cell magics**: Operan en múltiples líneas y utilizan el prefijo **%%**.\n",
    "\n",
    "A continuación, exploraremos algunos ejemplos clave de estos comandos.\n",
    "\n",
    "### Pegar bloques de código: %paste y %cpaste\n",
    "Cuando pegas bloques de código con múltiples líneas en IPython, a menudo el formato o la indentación pueden causar errores. Aquí es donde entran en juego los comandos `%paste` y `%cpaste`, que ayudan a pegar y ejecutar código correctamente sin errores de formato.\n",
    "\n",
    "**Ejemplo con `%paste`:**"
   ]
  },
  {
   "cell_type": "code",
   "execution_count": 3,
   "id": "12d232ab-e4be-44a6-a000-548dcf530830",
   "metadata": {},
   "outputs": [],
   "source": [
    "#In [3]: %paste\n",
    "#>>> def donothing(x):\n",
    "#...     return x\n",
    "## -- End pasted text --\n"
   ]
  },
  {
   "cell_type": "markdown",
   "id": "8fc6be5e-ca85-406c-ba2b-6435fd431445",
   "metadata": {},
   "source": [
    "El código es ejecutado correctamente y ahora puedes usar la función sin errores.\n",
    "\n",
    "**Ejemplo con `%cpaste`:**"
   ]
  },
  {
   "cell_type": "code",
   "execution_count": 7,
   "id": "ceb4e248-c2a3-4fa2-bc89-b243a7dd4793",
   "metadata": {},
   "outputs": [],
   "source": [
    "#In [5]: %cpaste\n",
    "#Pasting code; enter '--' alone on the line to stop or use Ctrl-D.\n",
    "#:>>> def donothing(x):\n",
    "#:...     return x\n",
    "#:--"
   ]
  },
  {
   "cell_type": "markdown",
   "id": "dadf4d96-4f71-41fe-920f-99f01d11f1d7",
   "metadata": {},
   "source": [
    "### Ejecutar código externo: %run\n",
    "Cuando desarrollas código en un editor de texto, puedes ejecutarlo directamente desde la sesión de IPython usando el comando `%run`. Esto es útil para ejecutar scripts sin salir del entorno interactivo.\n",
    "\n",
    "**Ejemplo:** Si tienes un archivo myscript.py con el siguiente contenido:"
   ]
  },
  {
   "cell_type": "code",
   "execution_count": 17,
   "id": "4fa99021-57d8-4475-be26-224bb724b86b",
   "metadata": {},
   "outputs": [],
   "source": [
    "# myscript.py\n",
    "#def square(x):\n",
    "#    return x ** 2\n",
    "\n",
    "#for N in range(1, 4):\n",
    "#    print(N, \"squared is\", square(N))\n",
    "\n",
    "#Ejecutarlo en IPython\n",
    "\n",
    "#In [6]: %run myscript.py\n",
    "#In [7]: square(5)\n",
    "#Out[7]: 25"
   ]
  },
  {
   "cell_type": "markdown",
   "id": "21ff3bc2-c4e6-49a6-9bd9-b6c09eed1e80",
   "metadata": {},
   "source": [
    "### Medir el tiempo de ejecución: %timeit\n",
    "El comando `%timeit` mide automáticamente el tiempo de ejecución de una línea de código. Este comando ejecuta múltiples veces el código para obtener resultados más precisos.\n",
    "\n",
    "**Ejemplo con una lista por comprensión:**"
   ]
  },
  {
   "cell_type": "code",
   "execution_count": 20,
   "id": "619618f7-531c-4f40-af61-fd69ae17f869",
   "metadata": {},
   "outputs": [],
   "source": [
    "#In [8]: %timeit L = [n ** 2 for n in range(1000)]\n",
    "#1000 loops, best of 3: 325 µs per loop"
   ]
  },
  {
   "cell_type": "markdown",
   "id": "18093259-33ba-4615-aadd-e267cf9b0806",
   "metadata": {},
   "source": [
    "**Ejemplo con `%%timeit`:**"
   ]
  },
  {
   "cell_type": "code",
   "execution_count": 24,
   "id": "25740ef2-8f31-48b9-bc15-0304df7b9b5c",
   "metadata": {},
   "outputs": [],
   "source": [
    "#In [9]: %%timeit\n",
    "#   ...: L = []\n",
    "#   ...: for n in range(1000):\n",
    "#   ...:     L.append(n ** 2)\n",
    "#1000 loops, best of 3: 373 µs per loop"
   ]
  },
  {
   "cell_type": "markdown",
   "id": "c0d83e3c-2f3b-4c6c-b305-53813f48fa8e",
   "metadata": {},
   "source": [
    "En este ejemplo, vemos que la lista por comprensión es un 10% más rápida que la construcción con un bucle `for`.\n",
    "\n",
    "### Ayuda sobre los comandos mágicos: ?, %magic y %lsmagic\n",
    "Puedes acceder a la documentación de los comandos mágicos de la misma manera que con las funciones normales de Python.\n",
    "\n",
    "- Para obtener ayuda sobre un comando específico, como `%timeit`, usa"
   ]
  },
  {
   "cell_type": "code",
   "execution_count": 27,
   "id": "3fb51358-96fc-433d-8d81-e0e8407855e8",
   "metadata": {},
   "outputs": [],
   "source": [
    "#```python\n",
    "#In [10]: %timeit?\n",
    "#```"
   ]
  },
  {
   "cell_type": "markdown",
   "id": "c81a3f40-724f-4109-90ac-83fa0fc1f357",
   "metadata": {},
   "source": [
    "- Para obtener una lista rápida de todos los comandos mágicos, usa:"
   ]
  },
  {
   "cell_type": "code",
   "execution_count": 30,
   "id": "c9265152-9e13-4d2a-a005-301e0796f2ad",
   "metadata": {},
   "outputs": [],
   "source": [
    "#```python\n",
    "#In [12]: %lsmagic"
   ]
  },
  {
   "cell_type": "markdown",
   "id": "4c5b3859-a5bb-46d7-ac89-c08a9606c427",
   "metadata": {},
   "source": [
    "### Conclusión\n",
    "Los comandos mágicos de IPython son herramientas poderosas para mejorar la eficiencia en la ejecución de código, administración del entorno y análisis de datos. A medida que te familiarices con ellos, descubrirás cómo pueden mejorar tu flujo de trabajo interactivo en Python."
   ]
  }
 ],
 "metadata": {
  "kernelspec": {
   "display_name": "Python 3 (ipykernel)",
   "language": "python",
   "name": "python3"
  },
  "language_info": {
   "codemirror_mode": {
    "name": "ipython",
    "version": 3
   },
   "file_extension": ".py",
   "mimetype": "text/x-python",
   "name": "python",
   "nbconvert_exporter": "python",
   "pygments_lexer": "ipython3",
   "version": "3.10.14"
  }
 },
 "nbformat": 4,
 "nbformat_minor": 5
}
