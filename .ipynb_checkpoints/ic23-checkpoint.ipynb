{
 "cells": [
  {
   "cell_type": "markdown",
   "id": "c11e38dc-ee99-4691-a063-a6c1a8c3b36b",
   "metadata": {},
   "source": [
    "# Notebook Numpy & Pandas\n",
    "## Introduccion a la Ciencia de Datos\n",
    "\n",
    "### Juan Francisco Regalado Heras\n",
    "Maestria en Ciencias de la Computacion, CICESE"
   ]
  },
  {
   "cell_type": "markdown",
   "id": "51eb69b2-1836-4496-80ee-87ac3cf0bb3b",
   "metadata": {},
   "source": [
    "### Numpy\n",
    "The NumPy library is the core library for scientific computing in Python. It provides a high-performance multidimensional array object, and tools for working with these arrays."
   ]
  },
  {
   "cell_type": "code",
   "execution_count": null,
   "id": "ec38eeae-2daf-4706-9580-2577bd878bf7",
   "metadata": {},
   "outputs": [],
   "source": [
    "pip install numpy"
   ]
  },
  {
   "cell_type": "code",
   "execution_count": null,
   "id": "970ce21d-9e8c-4347-95a3-50d25a87c6d5",
   "metadata": {},
   "outputs": [],
   "source": [
    "import numpy as np"
   ]
  },
  {
   "cell_type": "markdown",
   "id": "bcb47cb5-20d3-4694-a6d4-b92c22d9ad40",
   "metadata": {},
   "source": [
    "## -> Create Arrays"
   ]
  },
  {
   "cell_type": "code",
   "execution_count": null,
   "id": "0e609b0e-85e9-4317-a505-c7ed66c100a0",
   "metadata": {},
   "outputs": [],
   "source": [
    "a = np.array([1, 2, 3])\n",
    "b = np.array([(1.5, 2, 3), (4, 5, 6)], dtype = float)\n",
    "c = np.array([[(1.5, 2, 3), (4, 5, 6)],[(3, 2, 1), (4, 5, 6)]], dtype = float)"
   ]
  },
  {
   "cell_type": "markdown",
   "id": "62174759-90f7-4e09-87eb-0331557cf708",
   "metadata": {},
   "source": [
    "### Initial Placeholders"
   ]
  },
  {
   "cell_type": "code",
   "execution_count": null,
   "id": "41c44a87-21f1-4c1f-8453-01882436bfb0",
   "metadata": {},
   "outputs": [],
   "source": [
    "np.zeros((3, 4)) # Create an array of zeros\n",
    "np.ones((2, 3, 4), dtype = np.int16) #Create an array of ones\n",
    "d = np.arange(10, 25, 5) #Create an array of evenly spaced values (step value)\n",
    "np.linspace(0, 2, 9) # Create a constant array\n",
    "e = np.full((2, 2), 7) # Create a constant array\n",
    "f = np.eye(2) # Create a 2x2 identity matrix\n",
    "np.random.random((2, 2)) # Create an array with random values\n",
    "np.empty((3, 2)) # Create an empty array"
   ]
  },
  {
   "cell_type": "markdown",
   "id": "d0ba23ca-0117-45d9-a82a-e2e336f0d05a",
   "metadata": {},
   "source": [
    "## -> I / O\n",
    "### Saving & Loading On Disk"
   ]
  },
  {
   "cell_type": "code",
   "execution_count": null,
   "id": "e0fb0994-8791-412d-a51a-b9663adb3923",
   "metadata": {},
   "outputs": [],
   "source": [
    "np.save('my_array', a)\n",
    "np.savez('array.npz', a, b)\n",
    "np.load('my_array.npy')"
   ]
  },
  {
   "cell_type": "markdown",
   "id": "69e5ce29-750d-4c13-95e9-5a9fa3b703f4",
   "metadata": {},
   "source": [
    "### Saving & Loading Text Files"
   ]
  },
  {
   "cell_type": "code",
   "execution_count": null,
   "id": "f738f173-4fb1-4f88-98e5-946314c71a00",
   "metadata": {},
   "outputs": [],
   "source": [
    "np.loadtxt(\"myfile.txt\")\n",
    "np.genfromtxt(\"my_file.csv\", delimiter=',')\n",
    "np.savetxt(\"myarray.txt\", a, delimiter=\" \")\n"
   ]
  },
  {
   "cell_type": "markdown",
   "id": "8ba47d0e-597e-40f5-ba10-77a443d4a2f1",
   "metadata": {},
   "source": [
    "## -> Asking For Help"
   ]
  },
  {
   "cell_type": "code",
   "execution_count": null,
   "id": "2e77ee36-9e36-423e-92d9-2bbbd9634fed",
   "metadata": {},
   "outputs": [],
   "source": [
    "np.info(np.ndarray.dtype)"
   ]
  },
  {
   "cell_type": "markdown",
   "id": "94470f51-d92f-4b29-b978-6e57b91da5fc",
   "metadata": {},
   "source": [
    "## -> Inspecting Your Array"
   ]
  },
  {
   "cell_type": "code",
   "execution_count": null,
   "id": "143cf325-ed7c-446c-9534-0a518ef834c8",
   "metadata": {},
   "outputs": [],
   "source": [
    "a.shape # Array dimensions\n",
    "len(a) # Length of array\n",
    "b.ndim # Number of array dimensions\n",
    "e.size # Number of array elements\n",
    "b.dtype # Data type of array elements\n",
    "b.dtype.name # Name of data type\n",
    "b.astype(int) # Convert an array to a different type\n"
   ]
  },
  {
   "cell_type": "markdown",
   "id": "5aaf4ba6-d858-4d13-913b-01e5a8bbff26",
   "metadata": {},
   "source": [
    "## -> Data Types"
   ]
  },
  {
   "cell_type": "code",
   "execution_count": null,
   "id": "2b460de3-37a9-4d12-a723-a2e44c0d4d2b",
   "metadata": {},
   "outputs": [],
   "source": [
    "np.int64  # Signed 64-bit integer types  \n",
    "np.float32   # Standard double-precision floating point \n",
    "np.complex   # Complex numbers represented by 128 floats\n",
    "np.bool  # Boolean type storing TRUE and FALSE values\n",
    "np.object  # Python object type  \n",
    "np.string_   # Fixed-length string type  \n",
    "np.unicode_   # Fixed-length unicode type "
   ]
  },
  {
   "cell_type": "markdown",
   "id": "139ab778-aaff-4342-bffc-c5e288cb7dfa",
   "metadata": {},
   "source": [
    "## -> Array Mathematics\n",
    "\n",
    "### Arithmetic Operations"
   ]
  },
  {
   "cell_type": "code",
   "execution_count": null,
   "id": "f4bca3b0-6d4f-4405-ba01-6711e77821cf",
   "metadata": {},
   "outputs": [],
   "source": [
    "g = a - b    \n",
    "np.subtract(a,b)   \n",
    "\n",
    "b + a        \n",
    "np.add(b,a)  \n",
    "\n",
    "a / b    \n",
    "np.divide(a,b)\n",
    "\n",
    "a * b         \n",
    "np.multiply(a,b)  \n",
    "\n",
    "np.exp(b)     \n",
    "np.sqrt(b)  \n",
    "np.sin(a)  \n",
    "np.cos(b)   \n",
    "np.log(a)     \n",
    "e.dot(f)      \n",
    "np.array([[7. , 7. ], [7. , 7.]])  \n"
   ]
  },
  {
   "cell_type": "markdown",
   "id": "16e4661f-5d4d-440f-9dc0-7b589a617651",
   "metadata": {},
   "source": [
    "### Comparison"
   ]
  },
  {
   "cell_type": "code",
   "execution_count": null,
   "id": "d2c1e510-9c5f-4271-815c-9f02c4ae1357",
   "metadata": {},
   "outputs": [],
   "source": [
    "a = b # Element-wise comparison\n",
    "np.array([[False, True, True], [False, False, False]], dtype = bool)\n",
    "a < 2 # Element-wise comparison\n",
    "np.array([True, False, False], dtype = bool)\n",
    "np.array_equal(a, b) # Array-wise comparison"
   ]
  },
  {
   "cell_type": "markdown",
   "id": "49ebda55-512f-4e30-ada2-5c82fd5c87ad",
   "metadata": {},
   "source": [
    "### Aggregate Functions"
   ]
  },
  {
   "cell_type": "code",
   "execution_count": null,
   "id": "68ba2bcb-6f6e-4aa7-9849-8038ad04d716",
   "metadata": {},
   "outputs": [],
   "source": [
    "a.sum() # Array-wise sum\n",
    "a.min() # Array-wise minimum value\n",
    "b.max(axis = 0) # Maximum value of an array row\n",
    "b.cumsum(axis = 1) # Cumulative sum of the elements\n",
    "a.mean() # Mean\n",
    "np.median(b) # Median\n",
    "np.corrcoef(a) # Correlation coefficient\n",
    "np.std(b) # Standard deviation"
   ]
  },
  {
   "cell_type": "markdown",
   "id": "ddf18ab6-e5ae-4085-be00-af49d4241299",
   "metadata": {},
   "source": [
    "## -> Copying Arrays"
   ]
  },
  {
   "cell_type": "code",
   "execution_count": null,
   "id": "9e771ba9-c3aa-4496-8a70-0356c9929808",
   "metadata": {},
   "outputs": [],
   "source": [
    "h = a.view() # Create a view of the array with the same data\n",
    "np.copy(a) # Create a copy of the array\n",
    "h = a.copy() # Create a deep copy of the array"
   ]
  },
  {
   "cell_type": "markdown",
   "id": "0adb9acb-e344-4b5a-82e7-ea0c5f097b82",
   "metadata": {},
   "source": [
    "## -> Sorting Arrays"
   ]
  },
  {
   "cell_type": "code",
   "execution_count": null,
   "id": "25063cae-99d1-4ba8-a207-5faf351450d6",
   "metadata": {},
   "outputs": [],
   "source": [
    "a.sort() # Sort an array\n",
    "c.sort(axis = 0) # Sort the elements of an array's axis"
   ]
  },
  {
   "cell_type": "markdown",
   "id": "9e9ccccc-31f3-48ec-afbd-4b4ed56e4a40",
   "metadata": {},
   "source": [
    "## -> Subsetting, Slicing, Indexing"
   ]
  },
  {
   "cell_type": "code",
   "execution_count": null,
   "id": "38d58d1e-458b-4d73-90cd-fbe4e94b8444",
   "metadata": {},
   "outputs": [],
   "source": [
    "#Subsetting\n",
    "a[2] # Select the element at the 2nd index\n",
    "b[1, 2] # Select the element at row 1 column 2"
   ]
  },
  {
   "cell_type": "code",
   "execution_count": null,
   "id": "ba8b8940-7b8f-44a1-bd6f-ef830f36c9d9",
   "metadata": {},
   "outputs": [],
   "source": [
    "#Slicing\n",
    "a[0 : 2] # Select items at index 0 and 1\n",
    "b[0:2, 1] #Select items at rows 0 and 1 in column1\n",
    "b[:1] # Select all items at row 0 \n",
    "c[1, ...] #Same as [1, :, :]\n",
    "a[: :-1] # Reversed array a array [3, 2, 1]\n"
   ]
  },
  {
   "cell_type": "code",
   "execution_count": null,
   "id": "baf0b13b-3cc2-4517-b6ce-5fe6cb9387dc",
   "metadata": {},
   "outputs": [],
   "source": [
    "#Boolean indexing\n",
    "a[ a < 2 ] #Select elements a less than 2\n"
   ]
  },
  {
   "cell_type": "code",
   "execution_count": null,
   "id": "5b2fb86f-5bee-46dc-a816-39345fe09c11",
   "metadata": {},
   "outputs": [],
   "source": [
    "#Fancy Indexing\n",
    "b[[1, 0, 1, 0], [0, 1, 2, 0]] # Select elements (1,0), (0,1), (1,2) and (0,0)\n",
    "b[[1, 0, 1, 0]][:,[0, 1, 2, 0]] # Select a subset of the matrix's rows and columns"
   ]
  },
  {
   "cell_type": "markdown",
   "id": "3deb500d-a32b-473b-852d-3872743fc167",
   "metadata": {},
   "source": [
    "## -> Array Manipulation"
   ]
  },
  {
   "cell_type": "code",
   "execution_count": null,
   "id": "93ee2161-8af5-49af-9d03-17da65e641e7",
   "metadata": {},
   "outputs": [],
   "source": [
    "#Transposing Array\n",
    "i = np.transpose(b) #Permute array dimensions\n",
    "i.T # Permute array dimensions\n"
   ]
  },
  {
   "cell_type": "code",
   "execution_count": null,
   "id": "3ceb94e8-d522-4caa-85a1-fa2a90f55cc9",
   "metadata": {},
   "outputs": [],
   "source": [
    "#Changing Array Shape\n",
    "b.ravel() # Flatten the array\n",
    "g.reshape(3, -2) # Reshape, but don't change data\n"
   ]
  },
  {
   "cell_type": "code",
   "execution_count": null,
   "id": "5f8c90b9-98fd-489a-8184-eabb9aa3838d",
   "metadata": {},
   "outputs": [],
   "source": [
    "#Adding/Removing Elements\n",
    "h.resize((2, 6)) #Return a new array with shape (2, 6)\n",
    "np.append(h, g) # Append items to an array\n",
    "np.insert(a, 1, 5) # Insert items in an array\n",
    "np.delete(a, [1]) # Delete items from array"
   ]
  },
  {
   "cell_type": "code",
   "execution_count": null,
   "id": "bcbc94c8-28b9-4011-8b2e-184a08aafda2",
   "metadata": {},
   "outputs": [],
   "source": [
    "#Combining Arrays\n",
    "np.concatenate((a, d), axis = 0) # Concatenate arrays\n",
    "np.vstack((a, b)) #Stacck arrays vertically (row-wise)\n",
    "np.r_[e, f] # Stack arrays vertically (row-wise)\n",
    "np.hstack((e, f)) # Stack arrays horizontally (column-wise)\n",
    "np.column_stack((a, d)) # Create stacked colum-wise arrays\n",
    "np.c_[a, d] # Create stacked column-wise arrays"
   ]
  },
  {
   "cell_type": "code",
   "execution_count": null,
   "id": "8a9b0c02-76a5-403d-8d66-6db7539996a2",
   "metadata": {},
   "outputs": [],
   "source": [
    "#Splitting Arrays\n",
    "np.hsplit(a, 3) # Split the array horizontally at the 3rd index\n",
    "np.vsplit(c, 2) # Split the array vertically at the 2nd index"
   ]
  },
  {
   "cell_type": "markdown",
   "id": "648e7877-7a14-40b0-89e4-040f90a0c39d",
   "metadata": {},
   "source": [
    "# Data Wrangling \n",
    "### with pandas "
   ]
  },
  {
   "cell_type": "code",
   "execution_count": null,
   "id": "bb9f57df-4073-4eea-9ea6-65be1172c340",
   "metadata": {},
   "outputs": [],
   "source": [
    "pip install pandas\n"
   ]
  },
  {
   "cell_type": "code",
   "execution_count": null,
   "id": "be220855-9888-4c53-8cae-004d6d291962",
   "metadata": {},
   "outputs": [],
   "source": [
    "import pandas as pd"
   ]
  },
  {
   "cell_type": "markdown",
   "id": "437e058f-814c-4c1c-a7b3-62be5d16f2a3",
   "metadata": {},
   "source": [
    "### Creating DataFrames"
   ]
  },
  {
   "cell_type": "code",
   "execution_count": null,
   "id": "ec51e2ad-4414-4899-96e2-050e436c5c8b",
   "metadata": {},
   "outputs": [],
   "source": [
    "df = pd.DataFrame({\"a\" : [4, 5, 6], \"b\" : [7, 8, 9], \"c\" : [10, 11, 12]}, index = [1, 2, 3]) #Specify Values for each column"
   ]
  },
  {
   "cell_type": "code",
   "execution_count": null,
   "id": "1b42fc9a-75a2-4512-8500-ceb479c97f71",
   "metadata": {},
   "outputs": [],
   "source": [
    "df = pd.DataFrame([[4, 7, 10], [5, 8, 11], [6, 9, 12]],index = [1, 2, 3], columns = ['a', 'b', 'c']) #Specify values for each row"
   ]
  },
  {
   "cell_type": "code",
   "execution_count": null,
   "id": "15a33d52-2ea6-4649-82a6-3755e11595af",
   "metadata": {},
   "outputs": [],
   "source": [
    "df = pd.DataFrame({\"a\" : [4, 5, 6], \"b\" : [7, 8, 9], \"c\" : [10, 11, 12]}, index = pd.MultiIndex.from_tuples([('d', 1), ('d', 2), ('e', 2)], names = ['n', 'v']))"
   ]
  },
  {
   "cell_type": "markdown",
   "id": "1f684273-b47f-420f-be0f-23e7f303a90c",
   "metadata": {},
   "source": [
    "### Method Chaining \n",
    "Most pandas methods return a DatFrame so that another pandas method can be applied to the result. This improves readability of code."
   ]
  },
  {
   "cell_type": "code",
   "execution_count": null,
   "id": "f25551c0-9655-4703-93b2-8abe170df5e4",
   "metadata": {},
   "outputs": [],
   "source": [
    "df = (pd.melt(df).rename(columns={'variable' : 'var', 'value' : 'val'}).query('val >= 200'))"
   ]
  },
  {
   "cell_type": "markdown",
   "id": "46372621-753a-4694-a85a-bdae51dcf316",
   "metadata": {},
   "source": [
    "### Reshaping Data\n"
   ]
  },
  {
   "cell_type": "code",
   "execution_count": null,
   "id": "cca4034d-baba-4847-b058-9f7b8e083761",
   "metadata": {},
   "outputs": [],
   "source": [
    "pd.melt(df) # Gather columns into rows\n",
    "pd.concat([df1, df2]) # Append rows of DataFrames\n",
    "df.pivot(columns = 'var', values = 'val') # Spread rows into columns\n",
    "pd.concat([df1, df2], axis = 1) #Append columns of DataFrames\n",
    "df.sort_values('mpg') # order rows by values of a column (low to high)\n",
    "df.sort_values('mpg', ascending = False) #Order rows by values of a column (high to low)\n",
    "df.rename(columns = {'y':'year'}) # rename the columns of a DataFrame\n",
    "df.reset_index() #Reset index of DataFrame to row numbers, moving index to columns\n",
    "df.drop(columns = ['Length', 'height']) #Drop columns from DataFrame"
   ]
  },
  {
   "cell_type": "code",
   "execution_count": null,
   "id": "2cebf0e1-dafa-4fb4-856b-6538b7e0a1c5",
   "metadata": {},
   "outputs": [],
   "source": [
    "#Subset Observations - rows\n",
    "df[df.Length > 7] #Extract rows that meet logical criteria\n",
    "df.drop_duplicates() #Remove duplicate rows (only considers columns)\n",
    "df.sample(frac=0.5) #Randomly select fraction of rows\n",
    "df.sample(n=10) #Randomly select n rows\n",
    "df.nlargest(n, 'value') #Select and order top n entries\n",
    "df.nsmallest(n, 'value') #Select and order bottom n entries\n",
    "df.head(n) #Select first n rows\n",
    "df.tail(n) #Select last n rows\n",
    "\n",
    "#Subset Varuables - columns\n",
    "df[['width', 'length', 'species']] #Select multiple columns with specific names\n",
    "df['width'] # or df.width Select single column with specific name\n",
    "df.filter(regex='regex') #Select columns whose name matches regular expression regex\n",
    "\n",
    "#Using query\n",
    "# query() allows Boolean expressions for filtering rows\n",
    "df.query('Length > 7')\n",
    "df.query('Length > 7 and Width < 8')\n",
    "df.query('Name.str.startswith(\"abc\")', engine=\"python\")\n",
    "\n",
    "#Subsets - rows and columns\n",
    "# Use df.loc[] and df.iloc[] to select only rows, only columns or both. Use df.at[] and df.iat[] to access a single \n",
    "# value by row and column\n",
    "#First index selects rows, second index columns\n",
    "df.iloc[10:20] #Select rows 10-20\n",
    "df.iloc[:, [1, 2, 5]] #Select columns in positions 1, 2 and 5 (first column is 0)\n",
    "df.loc[:, 'x2':'x4'] #Select all columns between x2 and x4 (inclusive)\n",
    "df.loc[df['a'] > 10, ['a', 'c']] #Select rows meeting logical condition, and only the specific columns\n",
    "df.iat[1, 2] #Access single value by index\n",
    "df.at[4, 'A'] #Access single value by label"
   ]
  },
  {
   "cell_type": "markdown",
   "id": "e3bbc25c-a8b7-4a4b-8f3b-a64d4f0cabed",
   "metadata": {},
   "source": [
    "### Summarize Data"
   ]
  },
  {
   "cell_type": "code",
   "execution_count": null,
   "id": "a9128586-165b-420b-9d9f-1c12afa4a144",
   "metadata": {},
   "outputs": [],
   "source": [
    "df['w'].value_counts() #Count number of rows with each unique value of variable\n",
    "len(df) # Numbers of rows in DataFrame\n",
    "df.shape #Tuple of # of rows, # of columns in DataFrame\n",
    "df['w'].nunique() # Numbers of distinct values in a column\n",
    "df.describe() # Basic descriptive and statistics for each column (or GroupBy)"
   ]
  },
  {
   "cell_type": "markdown",
   "id": "b3099a62-7418-45e5-823b-a8e3fcb33431",
   "metadata": {},
   "source": [
    "pandas provides a large set of summary functions that operate on different kinds of pandas objects (DataFrame columns, Series,\n",
    "GroupBy, Expanding and Rolling (see below)) and produce single values for each of the groups. When applied to a DataFrame, the\n",
    "result is returned as a pandas Series for each column. Examples:"
   ]
  },
  {
   "cell_type": "code",
   "execution_count": null,
   "id": "c23214ce-fba2-4bd7-8fa7-407010cfe8da",
   "metadata": {},
   "outputs": [],
   "source": [
    "sum() #Sum values of each object\n",
    "count() #Count non-NA/null values of each object\n",
    "median() #Median value of each object\n",
    "quantile([0.25,0.75]) #Quantiles of each object\n",
    "apply(function) #Apply function to each object\n",
    "min() #Minimum value in each object\n",
    "max() #Maximum value in each object\n",
    "mean() #Mean value of each object\n",
    "var() #Variance of each object\n",
    "std() #Standard deviation of each object"
   ]
  },
  {
   "cell_type": "markdown",
   "id": "48f346b4-efe9-4ea8-afec-059dd8861c59",
   "metadata": {},
   "source": [
    "### Handling Missing Data"
   ]
  },
  {
   "cell_type": "code",
   "execution_count": null,
   "id": "e177c7d8-489e-438a-bb0f-74639b4d47f3",
   "metadata": {},
   "outputs": [],
   "source": [
    "df.dropna() #Drop rows with any column having NA/null data\n",
    "df.fillna(value) #Replace all NA/null data with value"
   ]
  },
  {
   "cell_type": "markdown",
   "id": "f9035980-0a10-4cab-b2a6-b43fb20824f8",
   "metadata": {},
   "source": [
    "### Make New Columns"
   ]
  },
  {
   "cell_type": "code",
   "execution_count": null,
   "id": "de1ac30e-992d-4c4c-ba6d-4e713c7389a6",
   "metadata": {},
   "outputs": [],
   "source": [
    "df.assign(Area=lambda df: df.Length*df.Height) #Compute and append one or more new columns\n",
    "df['Volume'] = df.Length*df.Height*df.Depth #Add single column\n",
    "pd.qcut(df.col, n, labels=False) #Bin column into n buckets"
   ]
  },
  {
   "cell_type": "markdown",
   "id": "1ca67a6e-c1e1-4768-98d1-59b5abf9a2ef",
   "metadata": {},
   "source": [
    "pandas provides a large set of vector functions that operate on all\n",
    "columns of a DataFrame or a single selected column (a pandas\n",
    "Series). These functions produce vectors of values for each of the\n",
    "columns, or a single Series for the individual Series. Examples:"
   ]
  },
  {
   "cell_type": "code",
   "execution_count": null,
   "id": "5047feeb-2511-44d8-97f3-8eccf98187d0",
   "metadata": {},
   "outputs": [],
   "source": [
    "max(axis=1) #Element-wise max\n",
    "clip(lower=-10,upper=10) #Trim values at input thresholds\n",
    "min(axis=1) #Element-wise min\n",
    "abs() #Absolute value"
   ]
  },
  {
   "cell_type": "markdown",
   "id": "809dd73a-83a3-4cb3-95e2-48a862d98c7c",
   "metadata": {},
   "source": [
    "### Group Data\n"
   ]
  },
  {
   "cell_type": "code",
   "execution_count": null,
   "id": "b879671b-bb9c-4117-85da-b40c1a13a70e",
   "metadata": {},
   "outputs": [],
   "source": [
    "df.groupby(by=\"col\") #Return a GroupBy object, grouped by values in column named \"col\"\n",
    "df.groupby(level=\"ind\") #Return a GroupBy object, grouped by values in index level named \"ind\""
   ]
  },
  {
   "cell_type": "markdown",
   "id": "afeb6274-ec6e-4e4a-847d-0303306035c4",
   "metadata": {},
   "source": [
    "All of the summary functions listed above can be applied to a group. Additional GroupBy functions:"
   ]
  },
  {
   "cell_type": "code",
   "execution_count": null,
   "id": "d35acbc5-505a-4faa-a046-bc1ea773623d",
   "metadata": {},
   "outputs": [],
   "source": [
    "size() #Size od each group\n",
    "agg(fuction) #Aggregate group using function"
   ]
  },
  {
   "cell_type": "markdown",
   "id": "f857d50a-1597-4275-b620-54a58401a099",
   "metadata": {},
   "source": [
    "The examples below can also be applied to groups. In this case, the function is applied on a per-group basis, and the returned vectors\n",
    "are of the length of the original DataFrame."
   ]
  },
  {
   "cell_type": "code",
   "execution_count": null,
   "id": "715e3a3e-72ee-4642-a34b-4e38d18d8b0c",
   "metadata": {},
   "outputs": [],
   "source": [
    "shift(1) #Copy with values shifted by 1\n",
    "rank(method='dense') #Ranks with no gaps\n",
    "rank(method='min') #Ranks. Ties get min rank\n",
    "rank(pct=True) #Ranks rescaled to interval [0, 1]\n",
    "rank(method='first') #Ranks. Ties go to first value\n",
    "shift(-1) #Copy with values lagged by 1\n",
    "cumsum() #Cumulative sum\n",
    "cummax() #Cumulative max\n",
    "cummin() #Cumulative min\n",
    "cumprod() #Cumulative product"
   ]
  },
  {
   "cell_type": "markdown",
   "id": "5103f4c5-aa97-4793-894b-94453fb7b6ee",
   "metadata": {},
   "source": [
    "### Windows"
   ]
  },
  {
   "cell_type": "code",
   "execution_count": null,
   "id": "67f8ced6-663e-4394-8994-0cddd76ac70f",
   "metadata": {},
   "outputs": [],
   "source": [
    "df.expanding() # Return an Expanding object allowing summary functions to be applied cumulatively\n",
    "df.rolling(n) # Return a Rolling object allowing summary functions to be applied to windows of length n"
   ]
  },
  {
   "cell_type": "markdown",
   "id": "0c02a9f7-d770-4ac5-a943-0230477c84bb",
   "metadata": {},
   "source": [
    "### Plotting"
   ]
  },
  {
   "cell_type": "code",
   "execution_count": null,
   "id": "ec29c61b-9b1a-4f63-9f7d-5697030a2e8f",
   "metadata": {},
   "outputs": [],
   "source": [
    "df.plot.hist() #Histogram for each column\n",
    "df.plot.scatter(x='w',y='h') #Scatter chart using pairs of points"
   ]
  },
  {
   "cell_type": "markdown",
   "id": "026ecf0a-4b8a-47c1-b83e-fac97100b86f",
   "metadata": {},
   "source": [
    "### Combine Data Sets"
   ]
  },
  {
   "cell_type": "code",
   "execution_count": null,
   "id": "c82ee8df-0a55-4c54-8405-7bf44022f82d",
   "metadata": {},
   "outputs": [],
   "source": [
    "# Standard Joins\n",
    "pd.merge(adf, bdf, how='left', on='x1') #Join matching rows from bdf to adf\n",
    "pd.merge(adf, bdf, how='right', on='x1') #Join matching rows from adf to bdf\n",
    "pd.merge(adf, bdf, how='inner', on='x1') #Join data. Retain only rows in both sets\n",
    "pd.merge(adf, bdf, how='outer', on='x1') #Join data. Retain all values, all rows\n",
    "\n",
    "# Filtering Joins\n",
    "adf[adf.x1.isin(bdf.x1)] #All rows in adf that have a match in bdf\n",
    "adf[~adf.x1.isin(bdf.x1)] #All rows in adf that do not have a match in bdf\n",
    "\n",
    "# Set-like Operations\n",
    "pd.merge(ydf, zdf) #Rows that appear in both ydf and zdf (Intersection).\n",
    "pd.merge(ydf, zdf, how='outer') # Rows that appear in either or both ydf and zdf(Union).\n",
    "pd.merge(ydf, zdf, how='outer', indicator=True).query('_merge == \"left_only\"').drop(columns=['_merge']) #Rows that appear in ydf but not zdf (Setdiff)."
   ]
  }
 ],
 "metadata": {
  "kernelspec": {
   "display_name": "Python 3 (ipykernel)",
   "language": "python",
   "name": "python3"
  },
  "language_info": {
   "codemirror_mode": {
    "name": "ipython",
    "version": 3
   },
   "file_extension": ".py",
   "mimetype": "text/x-python",
   "name": "python",
   "nbconvert_exporter": "python",
   "pygments_lexer": "ipython3",
   "version": "3.12.5"
  }
 },
 "nbformat": 4,
 "nbformat_minor": 5
}
